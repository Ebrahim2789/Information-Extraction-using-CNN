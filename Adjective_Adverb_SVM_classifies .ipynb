{
 "cells": [
  {
   "cell_type": "code",
   "execution_count": 35,
   "id": "ea0625fe",
   "metadata": {},
   "outputs": [],
   "source": [
    "import os \n",
    "import time as t\n",
    "import csv\n",
    "import numpy\n",
    "import pandas as pd\n",
    "import random \n",
    "from sklearn.metrics import confusion_matrix\n",
    "from sklearn.feature_extraction.text import TfidfVectorizer\n",
    "from sklearn.model_selection import train_test_split, StratifiedKFold, cross_val_score\n",
    "from sklearn.pipeline import make_pipeline, Pipeline\n",
    "from sklearn.model_selection import GridSearchCV\n",
    "from sklearn.metrics import make_scorer, accuracy_score, f1_score\n",
    "from sklearn.metrics import roc_curve, auc\n",
    "from sklearn.svm import SVC"
   ]
  },
  {
   "cell_type": "code",
   "execution_count": 88,
   "id": "70e2b476",
   "metadata": {},
   "outputs": [],
   "source": [
    "  from Preprocess import Preprocessing"
   ]
  },
  {
   "cell_type": "code",
   "execution_count": 78,
   "id": "a08b0aba",
   "metadata": {},
   "outputs": [],
   "source": [
    "def Reading_data(filename1,filename2):\n",
    " \n",
    "    # reading given csv file \n",
    "    # and creating dataframe\n",
    "    websites = pd.read_csv(filename1 ,header = None)\n",
    "\n",
    "    # adding column headings\n",
    "    websites.columns = ['Sentiment', 'labels']\n",
    "\n",
    "    # store dataframe into csv file\n",
    "    websites.to_csv(filename2, index = None)\n",
    "\n",
    "    df = pd.read_csv(filename2)\n",
    "    #getting rid of null values\n",
    "    df = df.dropna()\n",
    "    #Taking a 30% representative sample\n",
    "    np.random.seed(34)\n",
    "    df1 = df.sample(frac = 1)\n",
    "    #Adding the sentiments column\n",
    "    df1['labels'] = df1.labels.apply(lambda x: 0 if x=='adverbs' else 1)\n",
    "    \n",
    "    X = df1['Sentiment']\n",
    "    y = df1['labels']\n",
    "    X_train, X_test, y_train, y_test = train_test_split(X, y, test_size = 0.3,random_state=34)\n",
    "    X_test.to_csv('adjective_adverb_corpus/X_test.csv', index = None)\n",
    "    y_test.to_csv('adjective_adverb_corpus/y_test.csv', index = None)\n",
    "\n",
    "\n"
   ]
  },
  {
   "cell_type": "code",
   "execution_count": 89,
   "id": "89cdcd95",
   "metadata": {
    "scrolled": true
   },
   "outputs": [],
   "source": [
    "from sklearn.linear_model import SGDClassifier\n",
    "def Svm_model(X_train,X_test):\n",
    "    vectorizer = TfidfVectorizer()\n",
    "    X_train_vec = vectorizer.fit_transform(X_train)\n",
    "    X_test_vec = vectorizer.transform(X_test)\n",
    "    from sklearn import svm\n",
    "    svcl = svm.SVC(kernel=\"linear\")\n",
    "\n",
    "    svcl.fit(X_train_vec, y_train)\n",
    "    from sklearn.metrics import classification_report\n",
    "    # Perform classification with SVM, kernel=linear\n",
    "   \n"
   ]
  },
  {
   "cell_type": "code",
   "execution_count": 90,
   "id": "18d5af5e",
   "metadata": {},
   "outputs": [],
   "source": [
    "\n",
    "def Svm_model_secor(X_test,y_test):\n",
    "    X_test_vec = vectorizer.transform(X_test)\n",
    "    svcl_score = svcl.score(X_test_vec, y_test)\n",
    "    print(\"Results for Support Vector Machine with tfidf\")\n",
    "    print(svcl_score)\n",
    "    y_pred_sv = svcl.predict(X_test_vec)\n",
    "    #Confusion matrix\n",
    "    cm_sv = confusion_matrix(y_test, y_pred_sv)\n",
    "    tn, fp, fn, tp = confusion_matrix(y_test, y_pred_sv).ravel()\n",
    "    print(tn, fp, fn, tp)\n",
    "    tpr_sv = round(tp/(tp + fn), 4)\n",
    "    tnr_sv = round(tn/(tn+fp), 4)\n",
    "    print(tpr_sv, tnr_sv)\n",
    "  "
   ]
  },
  {
   "cell_type": "code",
   "execution_count": 91,
   "id": "1d5b9083",
   "metadata": {},
   "outputs": [],
   "source": [
    "def After_Spilt_data():\n",
    "    data_x= pd.read_csv(\"adjective_adverb_corpus/X_test.csv\")\n",
    "    Xtest = data_x['Sentiment']\n",
    "    data_y = pd.read_csv(\"adjective_adverb_corpus/y_test.csv\")\n",
    "    ytest= data_y['labels']\n",
    "    return Xtest,ytest"
   ]
  },
  {
   "cell_type": "markdown",
   "id": "8c013862",
   "metadata": {},
   "source": [
    "After split data test the model"
   ]
  },
  {
   "cell_type": "code",
   "execution_count": 92,
   "id": "26e5e0fe",
   "metadata": {},
   "outputs": [],
   "source": [
    "filename1='adjective_adverb_corpus/Train.txt'\n",
    "filename2='adjective_adverb_corpus/Train.csv'\n",
    "Reading_data(filename1,filename2)\n",
    "Svm_model(X_train,X_test)\n"
   ]
  },
  {
   "cell_type": "markdown",
   "id": "af26db28",
   "metadata": {},
   "source": [
    "Passing x_test and Y_test data for predict the accuracy of the modeel"
   ]
  },
  {
   "cell_type": "code",
   "execution_count": 93,
   "id": "909351fd",
   "metadata": {},
   "outputs": [
    {
     "name": "stdout",
     "output_type": "stream",
     "text": [
      "Results for Support Vector Machine with tfidf\n",
      "0.5014765100671141\n",
      "1787 44 1813 81\n",
      "0.0428 0.976\n"
     ]
    }
   ],
   "source": [
    "Svm_model_secor(X_test,y_test)"
   ]
  },
  {
   "cell_type": "code",
   "execution_count": 94,
   "id": "c5b1a800",
   "metadata": {},
   "outputs": [],
   "source": [
    "file_name_3='adjective_adverb_corpus/Train.txt'\n",
    "file_name_1='adjective_adverb_corpus/adjectives.txt'\n",
    "file_name_2='adjective_adverb_corpus/adverbs.txt'\n",
    "Preprocessing(file_name_1 ,file_name_2,file_name_3)\n",
    "Reading_data(filename1,filename2)"
   ]
  },
  {
   "cell_type": "code",
   "execution_count": 95,
   "id": "8fdf8c7c",
   "metadata": {},
   "outputs": [
    {
     "name": "stdout",
     "output_type": "stream",
     "text": [
      "Results for Support Vector Machine with tfidf\n",
      "0.5014765100671141\n",
      "1787 44 1813 81\n",
      "0.0428 0.976\n"
     ]
    }
   ],
   "source": [
    "After_Spilt_data()\n",
    "Svm_model_secor(Xtest,ytest)"
   ]
  },
  {
   "cell_type": "code",
   "execution_count": 96,
   "id": "2197585c",
   "metadata": {
    "scrolled": true
   },
   "outputs": [
    {
     "name": "stdout",
     "output_type": "stream",
     "text": [
      "Fitting 5 folds for each of 3 candidates, totalling 15 fits\n"
     ]
    },
    {
     "data": {
      "text/plain": [
       "0.5133505329140227"
      ]
     },
     "execution_count": 96,
     "metadata": {},
     "output_type": "execute_result"
    }
   ],
   "source": [
    "\n",
    "kfolds = StratifiedKFold(n_splits=5, shuffle=True, random_state=1)\n",
    "\n",
    "np.random.seed(1)\n",
    "\n",
    "pipeline_svm = make_pipeline(vectorizer, \n",
    "                            SVC(probability=True, kernel=\"linear\", class_weight=\"balanced\"))\n",
    "\n",
    "grid_svm = GridSearchCV(pipeline_svm,\n",
    "                    param_grid = {'svc__C': [0.01, 0.1, 1]}, \n",
    "                    cv = kfolds,\n",
    "                    scoring=\"roc_auc\",\n",
    "                    verbose=1,   \n",
    "                    n_jobs=-1) \n",
    "\n",
    "grid_svm.fit(X_train, y_train)\n",
    "grid_svm.score(X_test, y_test)\n"
   ]
  },
  {
   "cell_type": "code",
   "execution_count": 97,
   "id": "b78bf4e8",
   "metadata": {},
   "outputs": [
    {
     "data": {
      "text/plain": [
       "{'svc__C': 1}"
      ]
     },
     "execution_count": 97,
     "metadata": {},
     "output_type": "execute_result"
    }
   ],
   "source": [
    "grid_svm.best_params_"
   ]
  },
  {
   "cell_type": "code",
   "execution_count": 98,
   "id": "b2e93790",
   "metadata": {},
   "outputs": [
    {
     "data": {
      "text/plain": [
       "0.514479419004559"
      ]
     },
     "execution_count": 98,
     "metadata": {},
     "output_type": "execute_result"
    }
   ],
   "source": [
    "grid_svm.best_score_"
   ]
  },
  {
   "cell_type": "code",
   "execution_count": 99,
   "id": "344878d6",
   "metadata": {},
   "outputs": [
    {
     "name": "stdout",
     "output_type": "stream",
     "text": [
      "[0]\n"
     ]
    }
   ],
   "source": [
    "review = \"\"\"accommodatingly\"\"\"\n",
    "review_vector = vectorizer.transform([review]) # vectorizing\n",
    "print(svcl.predict(review_vector))"
   ]
  },
  {
   "cell_type": "code",
   "execution_count": null,
   "id": "c8c29082",
   "metadata": {},
   "outputs": [],
   "source": []
  }
 ],
 "metadata": {
  "kernelspec": {
   "display_name": "Python 3",
   "language": "python",
   "name": "python3"
  },
  "language_info": {
   "codemirror_mode": {
    "name": "ipython",
    "version": 3
   },
   "file_extension": ".py",
   "mimetype": "text/x-python",
   "name": "python",
   "nbconvert_exporter": "python",
   "pygments_lexer": "ipython3",
   "version": "3.8.8"
  }
 },
 "nbformat": 4,
 "nbformat_minor": 5
}
