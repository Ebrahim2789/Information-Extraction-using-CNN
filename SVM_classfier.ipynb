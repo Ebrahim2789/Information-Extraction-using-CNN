{
 "cells": [
  {
   "cell_type": "code",
   "execution_count": 24,
   "id": "d51a1dae",
   "metadata": {},
   "outputs": [],
   "source": [
    "import os \n",
    "import time as t\n",
    "import csv\n",
    "import numpy\n",
    "import pandas as pd\n",
    "import random \n",
    "from sklearn.model_selection import train_test_split\n",
    "from sklearn.model_selection import GridSearchCV\n",
    "from sklearn.metrics import confusion_matrix\n",
    "from sklearn.feature_extraction.text import TfidfVectorizer"
   ]
  },
  {
   "cell_type": "code",
   "execution_count": 25,
   "id": "fd5328e8",
   "metadata": {},
   "outputs": [],
   "source": [
    "from Preprocess import Preprocessing"
   ]
  },
  {
   "cell_type": "code",
   "execution_count": 26,
   "id": "c4a7fa0b",
   "metadata": {},
   "outputs": [],
   "source": [
    "def Reading_data(filename1,filename2):\n",
    " \n",
    "    # reading given csv file \n",
    "    # and creating dataframe\n",
    "    websites = pd.read_csv(filename1 ,header = None)\n",
    "\n",
    "    # adding column headings\n",
    "    websites.columns = ['Sentiment', 'labels']\n",
    "\n",
    "    # store dataframe into csv file\n",
    "    websites.to_csv(filename2, index = None)\n",
    "\n",
    "    df = pd.read_csv(filename2)\n",
    "    #getting rid of null values\n",
    "    df = df.dropna()\n",
    "    #Taking a 30% representative sample\n",
    "    np.random.seed(34)\n",
    "    df1 = df.sample(frac = 1)\n",
    "    #Adding the sentiments column\n",
    "    df1['labels'] = df1.labels.apply(lambda x: 0 if x=='adverbs' else 1)\n",
    "    \n",
    "    X = df1['Sentiment']\n",
    "    y = df1['labels']\n",
    "    X_train, X_test, y_train, y_test = train_test_split(X, y, test_size = 0.3,random_state=34)\n"
   ]
  },
  {
   "cell_type": "code",
   "execution_count": 21,
   "id": "50de67ae",
   "metadata": {},
   "outputs": [],
   "source": [
    "file_name_3='opinion-lexicon-English/Train.txt'\n",
    "file_name_1='opinion-lexicon-English/positive-words.txt'\n",
    "file_name_2='opinion-lexicon-English/negative-words.txt'\n",
    "filename2='opinion-lexicon-English/Train.csv'\n",
    "Preprocessing(file_name_1 ,file_name_2,file_name_3)\n",
    "Reading_data(file_name_3,filename2)"
   ]
  },
  {
   "cell_type": "code",
   "execution_count": 22,
   "id": "0e8ec7cb",
   "metadata": {
    "scrolled": true
   },
   "outputs": [
    {
     "name": "stdout",
     "output_type": "stream",
     "text": [
      "Results for Support Vector Machine with tfidf\n",
      "0.7005189028910304\n",
      "899 6 398 46\n",
      "0.1036 0.9934\n"
     ]
    }
   ],
   "source": [
    "from sklearn.model_selection import train_test_split\n",
    "from sklearn.model_selection import GridSearchCV\n",
    "X_train, X_test, y_train, y_test = train_test_split(X, y,\n",
    "test_size = 0.2,random_state=1)\n",
    "from sklearn.feature_extraction.text import TfidfVectorizer\n",
    "vectorizer = TfidfVectorizer()\n",
    "X_train_vec = vectorizer.fit_transform(X_train)\n",
    "X_test_vec = vectorizer.transform(X_test)\n",
    "from sklearn import svm\n",
    "params = {'kernel':('linear', 'rbf'), 'C':[1, 10, 100]}\n",
    "svcl = svm.SVC(probability=True, kernel=\"linear\", class_weight=\"balanced\")\n",
    "svcl.fit(X_train_vec, y_train)\n",
    "svcl_score = svcl.score(X_test_vec, y_test)\n",
    "print(\"Results for Support Vector Machine with tfidf\")\n",
    "print(svcl_score)\n",
    "y_pred_sv = svcl.predict(X_test_vec)\n",
    "#Confusion matrix\n",
    "from sklearn.metrics import confusion_matrix\n",
    "cm_sv = confusion_matrix(y_test, y_pred_sv)\n",
    "tn, fp, fn, tp = confusion_matrix(y_test, y_pred_sv).ravel()\n",
    "print(tn, fp, fn, tp)\n",
    "tpr_sv = round(tp/(tp + fn), 4)\n",
    "tnr_sv = round(tn/(tn+fp), 4)\n",
    "print(tpr_sv, tnr_sv)"
   ]
  },
  {
   "cell_type": "code",
   "execution_count": 23,
   "id": "929e6cc7",
   "metadata": {},
   "outputs": [
    {
     "name": "stdout",
     "output_type": "stream",
     "text": [
      "[0]\n"
     ]
    }
   ],
   "source": [
    "review = \"\"\"dissidence\"\"\"\n",
    "review_vector = vectorizer.transform([review]) # vectorizing\n",
    "print(svcl.predict(review_vector))"
   ]
  },
  {
   "cell_type": "code",
   "execution_count": null,
   "id": "47a971a9",
   "metadata": {},
   "outputs": [],
   "source": []
  }
 ],
 "metadata": {
  "kernelspec": {
   "display_name": "Python 3",
   "language": "python",
   "name": "python3"
  },
  "language_info": {
   "codemirror_mode": {
    "name": "ipython",
    "version": 3
   },
   "file_extension": ".py",
   "mimetype": "text/x-python",
   "name": "python",
   "nbconvert_exporter": "python",
   "pygments_lexer": "ipython3",
   "version": "3.8.8"
  }
 },
 "nbformat": 4,
 "nbformat_minor": 5
}
